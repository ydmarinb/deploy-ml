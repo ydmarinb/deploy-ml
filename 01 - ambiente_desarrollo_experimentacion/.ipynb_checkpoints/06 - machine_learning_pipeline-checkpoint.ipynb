{
 "cells": [
  {
   "cell_type": "code",
   "execution_count": 3,
   "id": "ba00c2f5-7295-4523-a75c-69702ddef92e",
   "metadata": {},
   "outputs": [
    {
     "ename": "ModuleNotFoundError",
     "evalue": "No module named 'preprocessors'",
     "output_type": "error",
     "traceback": [
      "\u001b[1;31m---------------------------------------------------------------------------\u001b[0m",
      "\u001b[1;31mModuleNotFoundError\u001b[0m                       Traceback (most recent call last)",
      "Cell \u001b[1;32mIn[3], line 34\u001b[0m\n\u001b[0;32m     31\u001b[0m \u001b[38;5;28;01mfrom\u001b[39;00m \u001b[38;5;21;01mfeature_engine\u001b[39;00m\u001b[38;5;21;01m.\u001b[39;00m\u001b[38;5;21;01mwrappers\u001b[39;00m \u001b[38;5;28;01mimport\u001b[39;00m SklearnTransformerWrapper\n\u001b[0;32m     33\u001b[0m \u001b[38;5;66;03m# Para paralelizar\u001b[39;00m\n\u001b[1;32m---> 34\u001b[0m \u001b[38;5;28;01mimport\u001b[39;00m \u001b[38;5;21;01mpreprocessors\u001b[39;00m \u001b[38;5;28;01mas\u001b[39;00m \u001b[38;5;21;01mpp\u001b[39;00m\n",
      "\u001b[1;31mModuleNotFoundError\u001b[0m: No module named 'preprocessors'"
     ]
    }
   ],
   "source": [
    "# Manipulación de imagenes y creación de graficas\n",
    "import pandas as pd\n",
    "import numpy as np\n",
    "import matplotlib.pyplot as plt\n",
    "\n",
    "# Gurdar estructuras de datos\n",
    "import joblib\n",
    "\n",
    "# Creación de modelos\n",
    "from sklearn.linear_model import Lasso\n",
    "from sklearn.metrics import mean_squared_error, r2_score\n",
    "from sklearn.model_selection import train_test_split\n",
    "from sklearn.pipeline import Pipeline\n",
    "from sklearn.preprocessing import MinMaxScaler, Binarizer\n",
    "\n",
    "# para realizar ing de caracteristicas\n",
    "from feature_engine.imputation import (\n",
    "    AddMissingIndicator,\n",
    "    MeanMedianImputer,\n",
    "    CategoricalImputer,\n",
    ")\n",
    "\n",
    "from feature_engine.encoding import (\n",
    "    RareLabelEncoder,\n",
    "    OrdinalEncoder,\n",
    ")\n",
    "\n",
    "from feature_engine.transformation import LogTransformer\n",
    "\n",
    "from feature_engine.selection import DropFeatures\n",
    "from feature_engine.wrappers import SklearnTransformerWrapper\n",
    "\n",
    "# Para paralelizar\n",
    "import preprocessors as pp"
   ]
  },
  {
   "cell_type": "code",
   "execution_count": 2,
   "id": "0619e3b5-18d7-45a0-8319-15adf127c7ec",
   "metadata": {},
   "outputs": [
    {
     "name": "stdout",
     "output_type": "stream",
     "text": [
      "Collecting feature_engine\n",
      "  Downloading feature_engine-1.5.2-py2.py3-none-any.whl (290 kB)\n",
      "     -------------------------------------- 290.0/290.0 kB 1.4 MB/s eta 0:00:00\n",
      "Requirement already satisfied: numpy>=1.18.2 in c:\\users\\ydmar\\appdata\\local\\programs\\python\\python311\\lib\\site-packages (from feature_engine) (1.23.5)\n",
      "Requirement already satisfied: pandas>=1.0.3 in c:\\users\\ydmar\\appdata\\local\\programs\\python\\python311\\lib\\site-packages (from feature_engine) (1.5.2)\n",
      "Requirement already satisfied: scikit-learn>=1.0.0 in c:\\users\\ydmar\\appdata\\local\\programs\\python\\python311\\lib\\site-packages (from feature_engine) (1.2.1)\n",
      "Requirement already satisfied: scipy>=1.4.1 in c:\\users\\ydmar\\appdata\\local\\programs\\python\\python311\\lib\\site-packages (from feature_engine) (1.10.0)\n",
      "Collecting statsmodels>=0.11.1\n",
      "  Downloading statsmodels-0.13.5-cp311-cp311-win_amd64.whl (9.0 MB)\n",
      "     ---------------------------------------- 9.0/9.0 MB 9.7 MB/s eta 0:00:00\n",
      "Requirement already satisfied: python-dateutil>=2.8.1 in c:\\users\\ydmar\\appdata\\roaming\\python\\python311\\site-packages (from pandas>=1.0.3->feature_engine) (2.8.2)\n",
      "Requirement already satisfied: pytz>=2020.1 in c:\\users\\ydmar\\appdata\\local\\programs\\python\\python311\\lib\\site-packages (from pandas>=1.0.3->feature_engine) (2022.6)\n",
      "Requirement already satisfied: joblib>=1.1.1 in c:\\users\\ydmar\\appdata\\local\\programs\\python\\python311\\lib\\site-packages (from scikit-learn>=1.0.0->feature_engine) (1.2.0)\n",
      "Requirement already satisfied: threadpoolctl>=2.0.0 in c:\\users\\ydmar\\appdata\\local\\programs\\python\\python311\\lib\\site-packages (from scikit-learn>=1.0.0->feature_engine) (3.1.0)\n",
      "Collecting patsy>=0.5.2\n",
      "  Downloading patsy-0.5.3-py2.py3-none-any.whl (233 kB)\n",
      "     ------------------------------------- 233.8/233.8 kB 14.9 MB/s eta 0:00:00\n",
      "Requirement already satisfied: packaging>=21.3 in c:\\users\\ydmar\\appdata\\roaming\\python\\python311\\site-packages (from statsmodels>=0.11.1->feature_engine) (21.3)\n",
      "Requirement already satisfied: pyparsing!=3.0.5,>=2.0.2 in c:\\users\\ydmar\\appdata\\roaming\\python\\python311\\site-packages (from packaging>=21.3->statsmodels>=0.11.1->feature_engine) (3.0.9)\n",
      "Requirement already satisfied: six in c:\\users\\ydmar\\appdata\\roaming\\python\\python311\\site-packages (from patsy>=0.5.2->statsmodels>=0.11.1->feature_engine) (1.16.0)\n",
      "Installing collected packages: patsy, statsmodels, feature_engine\n",
      "Successfully installed feature_engine-1.5.2 patsy-0.5.3 statsmodels-0.13.5\n"
     ]
    },
    {
     "name": "stderr",
     "output_type": "stream",
     "text": [
      "\n",
      "[notice] A new release of pip available: 22.3 -> 22.3.1\n",
      "[notice] To update, run: python.exe -m pip install --upgrade pip\n"
     ]
    }
   ],
   "source": [
    "! pip install feature_engine"
   ]
  },
  {
   "cell_type": "code",
   "execution_count": null,
   "id": "5c4cfd2f-1bde-4478-9704-52e80e9b2231",
   "metadata": {},
   "outputs": [],
   "source": []
  }
 ],
 "metadata": {
  "kernelspec": {
   "display_name": "Python 3 (ipykernel)",
   "language": "python",
   "name": "python3"
  },
  "language_info": {
   "codemirror_mode": {
    "name": "ipython",
    "version": 3
   },
   "file_extension": ".py",
   "mimetype": "text/x-python",
   "name": "python",
   "nbconvert_exporter": "python",
   "pygments_lexer": "ipython3",
   "version": "3.11.0"
  }
 },
 "nbformat": 4,
 "nbformat_minor": 5
}
