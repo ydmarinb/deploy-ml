{
 "cells": [
  {
   "cell_type": "markdown",
   "id": "707fd2ed-85d3-4f82-b5e7-fa6dc6471a15",
   "metadata": {},
   "source": [
    "El despliegue de modelos presenta retos del sofware tradicional:\n",
    "* *Fiabilidad:* Robusto a errores\n",
    "* *Reusabilidad:* Reusar en diferentes partes de un sistema\n",
    "* *Mantenibilidad:* Facil de mantener en el tiempo\n",
    "* *Flexibilidad:* Agregar o remover funcionalidad del sofware\n",
    "\n",
    "Ademas posee retos especificos del machine learning:\n",
    "* *Reproducibilidad:* Procudir el mismo resultado dado los mismos datos.\n",
    "\n",
    "*La reporducibilidad importa ya que permite reducir costos financieros, *\n",
    "\n",
    "Lo anterior representa un reto porque demanda la coordinación de un gran numero de personas y procesos (Ing de datos, cientificos de datos, ing de calidad de datos). Ademas las versiones de los sofwares tambien peuden ser un problema.\n",
    "\n",
    "Todos los retos anteriores deben ser solventados a lo largo del pipeline del machine learning:\n",
    "\n",
    "> Extracción de de base de datos -> ingenieria de caracteristicas -> Selección de caracteristicas -> Creación del modelo -> Predicción"
   ]
  },
  {
   "cell_type": "markdown",
   "id": "c256ad90-815c-477c-886b-8233cd175b10",
   "metadata": {},
   "source": [
    "## Ambiente de investigación \n",
    "\n",
    "Es un lugar aprovicionado con herramientas, programas y sofwares necsarios para el desarrollo de analisis y modelamiento."
   ]
  },
  {
   "cell_type": "markdown",
   "id": "9fcfe2e5-b8d3-48b1-b7d1-1945f04aa11d",
   "metadata": {},
   "source": [
    "## Ambiente de producción y experimentación\n",
    "Es el lugar donde se permite tener programas corriendo y configuraciones de hardware donde se operan las operaciones diarias de la empresa, ademas normalmente se tiene el modelo disponible para uso interno. Permite mostrar demos."
   ]
  },
  {
   "cell_type": "markdown",
   "id": "e3931b9d-0c0b-4de4-b818-d1fc138001b8",
   "metadata": {},
   "source": [
    "## Reproducibilidad\n",
    "Cuando hablamos de reporducibilidad nos referimos a que cada uno de los pasos involucrados en el pipeline de machine learning deben poder se reproducidos y entregar los mismos resultados.\n",
    "\n",
    "### Reproducibilidad en los conjuntos de datos\n",
    "\n",
    "En este caso se proponen dos soluciones para ofrecer reproducibilidad en los conjuntos de datos:\n",
    "\n",
    "* Guardar una copia del conjunto de entrenamiento lo que no es apropiado en problemas de Big data.\n",
    "*  Diseñar una conjuntos de datos con registro de tiempo precisos. Ideal\n",
    "\n",
    "### Reproducibilidad en el proceso de ing de caracteristicas y selección de caracteristicas\n",
    "\n",
    "La reproducibilidad en esta fase puede verse afectada por aquellos metodos de imputación o estadísticos que dependen de la aleatoriedad o resulytados de los datos, por lo que para segurar la reproducibilidad en esta etapa es importante:\n",
    "\n",
    "* Crear algoritmos con los proceso de creación de ing de caracteristicas.\n",
    "* Garantizar la reporducibilidad en los conjuntos de datos.\n",
    "* Si algun proceso depende de la aleatoriedad definir una semilla aleatoria.\n",
    "\n",
    "### Reproducibilidad en la creación de modelos\n",
    "\n",
    "Es normal que los modelos de machine learning dependan de la aleatoriedad o que no tengan en cuenta el nombre de las caracteristicas pasadas para realizar su entrenamiento o predicción. Por lo que es fundamental, realizar una registro de el orden de las caracteristicas, para modelos aleatorios siempre se debe definir una semilla. Ademas se debe registrar la estructura del modelo(Hiperparametros, composición si un modelo de emsamble)."
   ]
  },
  {
   "cell_type": "markdown",
   "id": "fff6b73d-ab91-4a1d-8b3e-725222481f35",
   "metadata": {},
   "source": [
    "## Contribuidores en un ML system\n",
    "\n",
    "* Sofwares engineers\n",
    "* Data sciences\n",
    "* Products/Business\n",
    "* DevOps"
   ]
  },
  {
   "cell_type": "markdown",
   "id": "ee1635e0-8db5-4696-aa70-982b4347d190",
   "metadata": {},
   "source": [
    "\n",
    "# Tipos de arquitectura\n",
    "\n",
    "\n",
    "\n",
    "|                                                   | Patron 1                | Patron 2        | Patron 3                                     | Patron 4                   |\n",
    "|---------------------------------------------------|-------------------------|-----------------|----------------------------------------------|----------------------------|\n",
    "| Predicción                                        | Sobre la marcha         | Sobre la marcha | En la marcha                                 | Batch                     |\n",
    "| Entrega de resultados de la predicción            | En el proceso de la app | Via API         | En tiempo real, por medio de mesajes en cola | Compartiendo DB, API, file |\n",
    "| Latencia de la predicción                         | Baja                    | Moderada        | Depende del proceso                          | Horas/ dias                |\n",
    "| Dificultad de adminitración                       | Intermedio              | Facil           | Muy dificil                                  | Intermedio                 |\n",
    "| Las actualizaciones requieren un nuevo despliegue | Si                      | Si              | No                                           | Si                         |"
   ]
  },
  {
   "cell_type": "code",
   "execution_count": null,
   "id": "98daf03d-6571-4ea9-886f-c77794e73fb0",
   "metadata": {},
   "outputs": [],
   "source": []
  }
 ],
 "metadata": {
  "kernelspec": {
   "display_name": "Python 3 (ipykernel)",
   "language": "python",
   "name": "python3"
  },
  "language_info": {
   "codemirror_mode": {
    "name": "ipython",
    "version": 3
   },
   "file_extension": ".py",
   "mimetype": "text/x-python",
   "name": "python",
   "nbconvert_exporter": "python",
   "pygments_lexer": "ipython3",
   "version": "3.11.0"
  }
 },
 "nbformat": 4,
 "nbformat_minor": 5
}
